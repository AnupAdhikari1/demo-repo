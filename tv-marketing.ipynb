{
 "cells": [
  {
   "cell_type": "code",
   "execution_count": 1,
   "id": "f4f8edae",
   "metadata": {
    "_cell_guid": "b1076dfc-b9ad-4769-8c92-a6c4dae69d19",
    "_uuid": "8f2839f25d086af736a60e9eeb907d3b93b6e0e5",
    "execution": {
     "iopub.execute_input": "2022-09-16T15:08:47.255651Z",
     "iopub.status.busy": "2022-09-16T15:08:47.254674Z",
     "iopub.status.idle": "2022-09-16T15:08:47.277680Z",
     "shell.execute_reply": "2022-09-16T15:08:47.275721Z"
    },
    "papermill": {
     "duration": 0.033654,
     "end_time": "2022-09-16T15:08:47.280827",
     "exception": false,
     "start_time": "2022-09-16T15:08:47.247173",
     "status": "completed"
    },
    "tags": []
   },
   "outputs": [
    {
     "name": "stdout",
     "output_type": "stream",
     "text": [
      "/kaggle/input/tvmarketing/tvmarketing.csv\n"
     ]
    }
   ],
   "source": [
    "# This Python 3 environment comes with many helpful analytics libraries installed\n",
    "# It is defined by the kaggle/python Docker image: https://github.com/kaggle/docker-python\n",
    "# For example, here's several helpful packages to load\n",
    "\n",
    "import numpy as np # linear algebra\n",
    "import pandas as pd # data processing, CSV file I/O (e.g. pd.read_csv)\n",
    "import matplotlib.pyplot as plt #  data visualisation\n",
    "\n",
    "# Input data files are available in the read-only \"../input/\" directory\n",
    "# For example, running this (by clicking run or pressing Shift+Enter) will list all files under the input directory\n",
    "\n",
    "import os\n",
    "for dirname, _, filenames in os.walk('/kaggle/input'):\n",
    "    for filename in filenames:\n",
    "        print(os.path.join(dirname, filename))\n",
    "\n",
    "# You can write up to 20GB to the current directory (/kaggle/working/) that gets preserved as output when you create a version using \"Save & Run All\" \n",
    "# You can also write temporary files to /kaggle/temp/, but they won't be saved outside of the current session"
   ]
  },
  {
   "cell_type": "code",
   "execution_count": 2,
   "id": "655c426e",
   "metadata": {
    "execution": {
     "iopub.execute_input": "2022-09-16T15:08:47.291071Z",
     "iopub.status.busy": "2022-09-16T15:08:47.290491Z",
     "iopub.status.idle": "2022-09-16T15:08:47.309371Z",
     "shell.execute_reply": "2022-09-16T15:08:47.308101Z"
    },
    "papermill": {
     "duration": 0.026953,
     "end_time": "2022-09-16T15:08:47.312201",
     "exception": false,
     "start_time": "2022-09-16T15:08:47.285248",
     "status": "completed"
    },
    "tags": []
   },
   "outputs": [],
   "source": [
    "# Importing the dataset\n",
    "dataset = pd.read_csv(\"../input/tvmarketing/tvmarketing.csv\")\n",
    "x = dataset.iloc[:, :-1] # Extracting features except last colum\n",
    "y = dataset.iloc[:,-1]  # Extracting last column as dependent feature"
   ]
  },
  {
   "cell_type": "code",
   "execution_count": 3,
   "id": "8ec00e9a",
   "metadata": {
    "execution": {
     "iopub.execute_input": "2022-09-16T15:08:47.322142Z",
     "iopub.status.busy": "2022-09-16T15:08:47.321584Z",
     "iopub.status.idle": "2022-09-16T15:08:47.336138Z",
     "shell.execute_reply": "2022-09-16T15:08:47.334658Z"
    },
    "papermill": {
     "duration": 0.022238,
     "end_time": "2022-09-16T15:08:47.338649",
     "exception": false,
     "start_time": "2022-09-16T15:08:47.316411",
     "status": "completed"
    },
    "tags": []
   },
   "outputs": [
    {
     "name": "stdout",
     "output_type": "stream",
     "text": [
      "        TV\n",
      "0    230.1\n",
      "1     44.5\n",
      "2     17.2\n",
      "3    151.5\n",
      "4    180.8\n",
      "..     ...\n",
      "195   38.2\n",
      "196   94.2\n",
      "197  177.0\n",
      "198  283.6\n",
      "199  232.1\n",
      "\n",
      "[200 rows x 1 columns]\n",
      "0      22.1\n",
      "1      10.4\n",
      "2       9.3\n",
      "3      18.5\n",
      "4      12.9\n",
      "       ... \n",
      "195     7.6\n",
      "196     9.7\n",
      "197    12.8\n",
      "198    25.5\n",
      "199    13.4\n",
      "Name: Sales, Length: 200, dtype: float64\n"
     ]
    }
   ],
   "source": [
    "print(x)\n",
    "print(y)"
   ]
  },
  {
   "cell_type": "code",
   "execution_count": 4,
   "id": "2e0e9ca5",
   "metadata": {
    "execution": {
     "iopub.execute_input": "2022-09-16T15:08:47.348532Z",
     "iopub.status.busy": "2022-09-16T15:08:47.348142Z",
     "iopub.status.idle": "2022-09-16T15:08:47.359654Z",
     "shell.execute_reply": "2022-09-16T15:08:47.358508Z"
    },
    "papermill": {
     "duration": 0.019004,
     "end_time": "2022-09-16T15:08:47.361848",
     "exception": false,
     "start_time": "2022-09-16T15:08:47.342844",
     "status": "completed"
    },
    "tags": []
   },
   "outputs": [
    {
     "data": {
      "text/plain": [
       "TV       0\n",
       "Sales    0\n",
       "dtype: int64"
      ]
     },
     "execution_count": 4,
     "metadata": {},
     "output_type": "execute_result"
    }
   ],
   "source": [
    "# check the null values\n",
    "dataset.isnull().sum()"
   ]
  },
  {
   "cell_type": "code",
   "execution_count": 5,
   "id": "7ee85ce4",
   "metadata": {
    "execution": {
     "iopub.execute_input": "2022-09-16T15:08:47.371965Z",
     "iopub.status.busy": "2022-09-16T15:08:47.371346Z",
     "iopub.status.idle": "2022-09-16T15:08:48.462776Z",
     "shell.execute_reply": "2022-09-16T15:08:48.461693Z"
    },
    "papermill": {
     "duration": 1.099292,
     "end_time": "2022-09-16T15:08:48.465331",
     "exception": false,
     "start_time": "2022-09-16T15:08:47.366039",
     "status": "completed"
    },
    "tags": []
   },
   "outputs": [],
   "source": [
    "# splitting the dataset into training and test set\n",
    "from sklearn.model_selection import train_test_split\n",
    "x_train,x_test,y_train,y_test = train_test_split(x,y,test_size = 0.2,random_state = 0)"
   ]
  },
  {
   "cell_type": "code",
   "execution_count": 6,
   "id": "c7d721fb",
   "metadata": {
    "execution": {
     "iopub.execute_input": "2022-09-16T15:08:48.476033Z",
     "iopub.status.busy": "2022-09-16T15:08:48.475350Z",
     "iopub.status.idle": "2022-09-16T15:08:48.491584Z",
     "shell.execute_reply": "2022-09-16T15:08:48.489273Z"
    },
    "papermill": {
     "duration": 0.024685,
     "end_time": "2022-09-16T15:08:48.494299",
     "exception": false,
     "start_time": "2022-09-16T15:08:48.469614",
     "status": "completed"
    },
    "tags": []
   },
   "outputs": [
    {
     "name": "stdout",
     "output_type": "stream",
     "text": [
      "        TV\n",
      "134   36.9\n",
      "66    31.5\n",
      "26   142.9\n",
      "113  209.6\n",
      "168  215.4\n",
      "..     ...\n",
      "67   139.3\n",
      "192   17.2\n",
      "117   76.4\n",
      "47   239.9\n",
      "172   19.6\n",
      "\n",
      "[160 rows x 1 columns]\n",
      "        TV\n",
      "18    69.2\n",
      "170   50.0\n",
      "107   90.4\n",
      "98   289.7\n",
      "177  170.2\n",
      "182   56.2\n",
      "5      8.7\n",
      "146  240.1\n",
      "12    23.8\n",
      "152  197.6\n",
      "61   261.3\n",
      "125   87.2\n",
      "180  156.6\n",
      "154  187.8\n",
      "80    76.4\n",
      "7    120.2\n",
      "33   265.6\n",
      "130    0.7\n",
      "37    74.7\n",
      "74   213.4\n",
      "183  287.6\n",
      "145  140.3\n",
      "45   175.1\n",
      "159  131.7\n",
      "60    53.5\n",
      "123  123.1\n",
      "179  165.6\n",
      "185  205.0\n",
      "122  224.0\n",
      "44    25.1\n",
      "16    67.8\n",
      "55   198.9\n",
      "150  280.7\n",
      "111  241.7\n",
      "22    13.2\n",
      "189   18.7\n",
      "129   59.6\n",
      "4    180.8\n",
      "83    68.4\n",
      "106   25.0\n",
      "134    10.8\n",
      "66      9.5\n",
      "26     15.0\n",
      "113    15.9\n",
      "168    17.1\n",
      "       ... \n",
      "67     13.4\n",
      "192     5.9\n",
      "117     9.4\n",
      "47     23.2\n",
      "172     7.6\n",
      "Name: Sales, Length: 160, dtype: float64\n",
      "        TV\n",
      "18    69.2\n",
      "170   50.0\n",
      "107   90.4\n",
      "98   289.7\n",
      "177  170.2\n",
      "182   56.2\n",
      "5      8.7\n",
      "146  240.1\n",
      "12    23.8\n",
      "152  197.6\n",
      "61   261.3\n",
      "125   87.2\n",
      "180  156.6\n",
      "154  187.8\n",
      "80    76.4\n",
      "7    120.2\n",
      "33   265.6\n",
      "130    0.7\n",
      "37    74.7\n",
      "74   213.4\n",
      "183  287.6\n",
      "145  140.3\n",
      "45   175.1\n",
      "159  131.7\n",
      "60    53.5\n",
      "123  123.1\n",
      "179  165.6\n",
      "185  205.0\n",
      "122  224.0\n",
      "44    25.1\n",
      "16    67.8\n",
      "55   198.9\n",
      "150  280.7\n",
      "111  241.7\n",
      "22    13.2\n",
      "189   18.7\n",
      "129   59.6\n",
      "4    180.8\n",
      "83    68.4\n",
      "106   25.0\n"
     ]
    }
   ],
   "source": [
    "print(x_train)\n",
    "print(x_test)\n",
    "print(y_train)\n",
    "print(x_test)\n"
   ]
  },
  {
   "cell_type": "code",
   "execution_count": 7,
   "id": "01c00665",
   "metadata": {
    "execution": {
     "iopub.execute_input": "2022-09-16T15:08:48.505387Z",
     "iopub.status.busy": "2022-09-16T15:08:48.504982Z",
     "iopub.status.idle": "2022-09-16T15:08:48.593649Z",
     "shell.execute_reply": "2022-09-16T15:08:48.592525Z"
    },
    "papermill": {
     "duration": 0.0972,
     "end_time": "2022-09-16T15:08:48.596262",
     "exception": false,
     "start_time": "2022-09-16T15:08:48.499062",
     "status": "completed"
    },
    "tags": []
   },
   "outputs": [
    {
     "data": {
      "text/plain": [
       "LinearRegression()"
      ]
     },
     "execution_count": 7,
     "metadata": {},
     "output_type": "execute_result"
    }
   ],
   "source": [
    "# Training the simple linear regression model on the training set \n",
    "from sklearn.linear_model import LinearRegression\n",
    "regressor = LinearRegression()\n",
    "regressor.fit(x_train, y_train)"
   ]
  },
  {
   "cell_type": "code",
   "execution_count": 8,
   "id": "013afb22",
   "metadata": {
    "execution": {
     "iopub.execute_input": "2022-09-16T15:08:48.606879Z",
     "iopub.status.busy": "2022-09-16T15:08:48.606445Z",
     "iopub.status.idle": "2022-09-16T15:08:48.614308Z",
     "shell.execute_reply": "2022-09-16T15:08:48.613174Z"
    },
    "papermill": {
     "duration": 0.015834,
     "end_time": "2022-09-16T15:08:48.616685",
     "exception": false,
     "start_time": "2022-09-16T15:08:48.600851",
     "status": "completed"
    },
    "tags": []
   },
   "outputs": [],
   "source": [
    "# predicting the test set result\n",
    "y_pred = regressor.predict(x_test)"
   ]
  },
  {
   "cell_type": "code",
   "execution_count": 9,
   "id": "67732285",
   "metadata": {
    "execution": {
     "iopub.execute_input": "2022-09-16T15:08:48.627801Z",
     "iopub.status.busy": "2022-09-16T15:08:48.627378Z",
     "iopub.status.idle": "2022-09-16T15:08:48.634922Z",
     "shell.execute_reply": "2022-09-16T15:08:48.633975Z"
    },
    "papermill": {
     "duration": 0.015291,
     "end_time": "2022-09-16T15:08:48.636851",
     "exception": false,
     "start_time": "2022-09-16T15:08:48.621560",
     "status": "completed"
    },
    "tags": []
   },
   "outputs": [
    {
     "data": {
      "text/plain": [
       "array([10.47623281,  9.59288325, 11.45159795, 20.62095042, 15.12301956,\n",
       "        9.87813155,  7.69276154, 18.33896406,  8.38747917, 16.383633  ,\n",
       "       19.3143292 , 11.30437303, 14.49731363, 15.93275666, 10.8074889 ,\n",
       "       12.82263008, 19.51216269,  7.32469923, 10.72927566, 17.11055607,\n",
       "       20.52433406, 13.74738665, 15.34845773, 13.35171966,  9.75391052,\n",
       "       12.95605267, 14.91138373, 16.72409064, 17.59823864,  8.44728929,\n",
       "       10.41182191, 16.44344313, 20.20688032, 18.41257652,  7.8997966 ,\n",
       "        8.15283944, 10.03455803, 15.61070213, 10.43942658,  8.44268851])"
      ]
     },
     "execution_count": 9,
     "metadata": {},
     "output_type": "execute_result"
    }
   ],
   "source": [
    "y_pred"
   ]
  },
  {
   "cell_type": "code",
   "execution_count": 10,
   "id": "cf04d330",
   "metadata": {
    "execution": {
     "iopub.execute_input": "2022-09-16T15:08:48.648027Z",
     "iopub.status.busy": "2022-09-16T15:08:48.647152Z",
     "iopub.status.idle": "2022-09-16T15:08:48.655352Z",
     "shell.execute_reply": "2022-09-16T15:08:48.654285Z"
    },
    "papermill": {
     "duration": 0.01613,
     "end_time": "2022-09-16T15:08:48.657631",
     "exception": false,
     "start_time": "2022-09-16T15:08:48.641501",
     "status": "completed"
    },
    "tags": []
   },
   "outputs": [],
   "source": [
    "#Finding the predicted values of Y\n",
    "y_train_pred = regressor.predict(x_train)\n",
    "y_test_pred = regressor.predict(x_test)"
   ]
  },
  {
   "cell_type": "code",
   "execution_count": 11,
   "id": "66449700",
   "metadata": {
    "execution": {
     "iopub.execute_input": "2022-09-16T15:08:48.668834Z",
     "iopub.status.busy": "2022-09-16T15:08:48.668378Z",
     "iopub.status.idle": "2022-09-16T15:08:48.675651Z",
     "shell.execute_reply": "2022-09-16T15:08:48.674712Z"
    },
    "papermill": {
     "duration": 0.015932,
     "end_time": "2022-09-16T15:08:48.678266",
     "exception": false,
     "start_time": "2022-09-16T15:08:48.662334",
     "status": "completed"
    },
    "tags": []
   },
   "outputs": [
    {
     "name": "stdout",
     "output_type": "stream",
     "text": [
      "0.5884742462828709\n",
      "0.6763151577939721\n"
     ]
    }
   ],
   "source": [
    "from sklearn.metrics import r2_score\n",
    "#Calculating the metric for training and testing dataset\n",
    "print(r2_score(y_train, y_train_pred))\n",
    "print(r2_score(y_test, y_test_pred))"
   ]
  },
  {
   "cell_type": "code",
   "execution_count": 12,
   "id": "151676a8",
   "metadata": {
    "execution": {
     "iopub.execute_input": "2022-09-16T15:08:48.691098Z",
     "iopub.status.busy": "2022-09-16T15:08:48.690190Z",
     "iopub.status.idle": "2022-09-16T15:08:48.920647Z",
     "shell.execute_reply": "2022-09-16T15:08:48.919502Z"
    },
    "papermill": {
     "duration": 0.239171,
     "end_time": "2022-09-16T15:08:48.923059",
     "exception": false,
     "start_time": "2022-09-16T15:08:48.683888",
     "status": "completed"
    },
    "tags": []
   },
   "outputs": [
    {
     "data": {
      "image/png": "[encoded data removed]",
      "text/plain": [
       "<Figure size 432x288 with 1 Axes>"
      ]
     },
     "metadata": {
      "needs_background": "light"
     },
     "output_type": "display_data"
    }
   ],
   "source": [
    "# visualising the training set result \n",
    "plt.scatter(x_train, y_train, color = 'red')\n",
    "plt.plot(x_train, regressor.predict(x_train), color = 'blue')\n",
    "plt.title('TV vs Sales (Training set)')\n",
    "plt.xlabel('TV')\n",
    "plt.ylabel('Sales')\n",
    "plt.show()"
   ]
  },
  {
   "cell_type": "code",
   "execution_count": 13,
   "id": "f49e4580",
   "metadata": {
    "execution": {
     "iopub.execute_input": "2022-09-16T15:08:48.935238Z",
     "iopub.status.busy": "2022-09-16T15:08:48.934378Z",
     "iopub.status.idle": "2022-09-16T15:08:49.120494Z",
     "shell.execute_reply": "2022-09-16T15:08:49.119287Z"
    },
    "papermill": {
     "duration": 0.195028,
     "end_time": "2022-09-16T15:08:49.123245",
     "exception": false,
     "start_time": "2022-09-16T15:08:48.928217",
     "status": "completed"
    },
    "tags": []
   },
   "outputs": [
    {
     "data": {
      "image/png": "[encoded data removed]",
      "text/plain": [
       "<Figure size 432x288 with 1 Axes>"
      ]
     },
     "metadata": {
      "needs_background": "light"
     },
     "output_type": "display_data"
    }
   ],
   "source": [
    "# visualising the test set result \n",
    "plt.scatter(x_test, y_test, color = 'red')\n",
    "plt.plot(x_train, regressor.predict(x_train), color = 'blue')\n",
    "plt.title('TV vs Sales (Test set)')\n",
    "plt.xlabel('TV')\n",
    "plt.ylabel('Sales')\n",
    "plt.show()"
   ]
  }
 ],
 "metadata": {
  "kernelspec": {
   "display_name": "Python 3",
   "language": "python",
   "name": "python3"
  },
  "language_info": {
   "codemirror_mode": {
    "name": "ipython",
    "version": 3
   },
   "file_extension": ".py",
   "mimetype": "text/x-python",
   "name": "python",
   "nbconvert_exporter": "python",
   "pygments_lexer": "ipython3",
   "version": "3.7.12"
  },
  "papermill": {
   "default_parameters": {},
   "duration": 11.742006,
   "end_time": "2022-09-16T15:08:49.850543",
   "environment_variables": {},
   "exception": null,
   "input_path": "__notebook__.ipynb",
   "output_path": "__notebook__.ipynb",
   "parameters": {},
   "start_time": "2022-09-16T15:08:38.108537",
   "version": "2.3.4"
  }
 },
 "nbformat": 4,
 "nbformat_minor": 5
}
